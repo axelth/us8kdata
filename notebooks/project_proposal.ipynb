{
 "cells": [
  {
   "cell_type": "markdown",
   "id": "e40a38d7-f3ff-473b-a751-09788bec91e0",
   "metadata": {
    "slideshow": {
     "slide_type": "slide"
    },
    "tags": []
   },
   "source": [
    "# Sound Based Traffic Hazard Alert System for Pedestrians"
   ]
  },
  {
   "cell_type": "markdown",
   "id": "729846f1-5c13-4e8b-8feb-190cd94dc6a9",
   "metadata": {
    "slideshow": {
     "slide_type": "fragment"
    },
    "tags": []
   },
   "source": [
    "+ For pedestrians who can't hear, the traffic situation can change unexpectedly.  "
   ]
  },
  {
   "cell_type": "markdown",
   "id": "c1f6d69e-82fd-428d-8e04-83f8cbd5be0d",
   "metadata": {
    "slideshow": {
     "slide_type": "fragment"
    },
    "tags": []
   },
   "source": [
    "+ With the help of the microphones the most people carry on them, we can pick up auditory cues for traffic events, and alert the user in a manner they are sure to register."
   ]
  },
  {
   "cell_type": "markdown",
   "id": "168ae258-51c9-4412-b27c-3067202acc0b",
   "metadata": {
    "slideshow": {
     "slide_type": "fragment"
    },
    "tags": []
   },
   "source": [
    "+ The proposed system will recognize and alert users to *sirens* and *car horns*"
   ]
  },
  {
   "cell_type": "markdown",
   "id": "3b0f8e6b-1207-4e6a-acb4-26d65e1578ef",
   "metadata": {
    "slideshow": {
     "slide_type": "slide"
    },
    "tags": []
   },
   "source": [
    "# Dangerous traffic situation\n",
    "![Ambulance approaching person listening to loud musik on headphones](ambulance_accident.png)"
   ]
  },
  {
   "cell_type": "markdown",
   "id": "1ece4153-d450-4d95-92a8-64e9d0e89588",
   "metadata": {
    "slideshow": {
     "slide_type": "slide"
    },
    "tags": []
   },
   "source": [
    "# HASP: Cloud based\n",
    "![HASP detecting the sirens and warning pedestrian](ambulance_warning.png)"
   ]
  },
  {
   "cell_type": "markdown",
   "id": "efa7a47c-f2ce-4557-922d-0267bbe59180",
   "metadata": {
    "slideshow": {
     "slide_type": "slide"
    },
    "tags": []
   },
   "source": [
    "# HASP: On-device\n",
    "![HASP detecting the sirens and warning pedestrian on-device](ambulance_warning_on-device.png)"
   ]
  },
  {
   "cell_type": "markdown",
   "id": "b08f4a70-d2b7-44d1-9904-da71aff0d630",
   "metadata": {
    "slideshow": {
     "slide_type": "slide"
    },
    "tags": []
   },
   "source": [
    "# Training Data: Urban Sounds\n",
    "https://urbansounddataset.weebly.com/"
   ]
  },
  {
   "cell_type": "markdown",
   "id": "2684473e-6a97-43c8-91e2-6d407f25989b",
   "metadata": {
    "slideshow": {
     "slide_type": "fragment"
    },
    "tags": []
   },
   "source": [
    "## Urban Sound 8K\n",
    "+ Semi-balanced dataset with 8732 audio samples containing one each of ten classes of audio events\n",
    "+ target classes: *car horn* and *siren*\n",
    "+ the rest of the classes: *other*"
   ]
  },
  {
   "cell_type": "markdown",
   "id": "7e636f81-1b98-4b4d-a5c0-fe857137f552",
   "metadata": {
    "slideshow": {
     "slide_type": "fragment"
    },
    "tags": []
   },
   "source": [
    "## Urban Sound\n",
    "+ 1302 sound recordings\n",
    "+ labeled with start and end times of audio events in ten classes<br/>(same as Urban Sound 8k)"
   ]
  },
  {
   "cell_type": "markdown",
   "id": "6fa51e93-0d9d-47b5-a95b-252f60963b7b",
   "metadata": {
    "slideshow": {
     "slide_type": "slide"
    },
    "tags": []
   },
   "source": [
    "# Model Development Stages"
   ]
  },
  {
   "cell_type": "markdown",
   "id": "00aa6cc4-f6dc-401e-885d-aca792dc6408",
   "metadata": {
    "slideshow": {
     "slide_type": "fragment"
    },
    "tags": []
   },
   "source": [
    " Recognize the following three types of audio events<br/>\n",
    " *car horn*, *siren*, *other*<br/>\n",
    " in the following ways"
   ]
  },
  {
   "cell_type": "markdown",
   "id": "21ec4b4c-a28e-420f-8e73-8991e878294d",
   "metadata": {
    "slideshow": {
     "slide_type": "slide"
    },
    "tags": []
   },
   "source": [
    "## Stage 1 categorize whole samples\n",
    "Train a classifier to categorize the samples of the training data into three categories."
   ]
  },
  {
   "cell_type": "markdown",
   "id": "9aebd810-0fdc-4323-8133-cc27d88ef3ee",
   "metadata": {
    "slideshow": {
     "slide_type": "fragment"
    },
    "tags": []
   },
   "source": [
    "## Stage 2 categorize spectrogram sequences\n",
    "Convert the samples into spectrograms and learn a sequence model.\n",
    "\n",
    "Goal: return a prediction without having to see the whole sample."
   ]
  },
  {
   "cell_type": "markdown",
   "id": "60e5cceb-78f4-4fde-a813-ca5977871dc3",
   "metadata": {
    "slideshow": {
     "slide_type": "fragment"
    },
    "tags": []
   },
   "source": [
    "## Stage 3 stream processing\n",
    "Train a classifier that can take a stream of audio and recognize events continuously. "
   ]
  },
  {
   "cell_type": "markdown",
   "id": "79d18aed-be29-466f-a43b-1dfbb9709565",
   "metadata": {
    "slideshow": {
     "slide_type": "slide"
    },
    "tags": []
   },
   "source": [
    "# Delivery Method Goals"
   ]
  },
  {
   "cell_type": "markdown",
   "id": "2c4010de-8df9-467a-9a99-d4f1ec22f4d8",
   "metadata": {
    "slideshow": {
     "slide_type": "fragment"
    },
    "tags": []
   },
   "source": [
    "## 1 Rest API"
   ]
  },
  {
   "cell_type": "markdown",
   "id": "68952a47-99c7-4333-82ab-73220da59e35",
   "metadata": {
    "slideshow": {
     "slide_type": "fragment"
    },
    "tags": []
   },
   "source": [
    "## 2 On-device"
   ]
  }
 ],
 "metadata": {
  "kernelspec": {
   "display_name": "Python 3 (ipykernel)",
   "language": "python",
   "name": "python3"
  },
  "language_info": {
   "codemirror_mode": {
    "name": "ipython",
    "version": 3
   },
   "file_extension": ".py",
   "mimetype": "text/x-python",
   "name": "python",
   "nbconvert_exporter": "python",
   "pygments_lexer": "ipython3",
   "version": "3.8.12"
  }
 },
 "nbformat": 4,
 "nbformat_minor": 5
}
